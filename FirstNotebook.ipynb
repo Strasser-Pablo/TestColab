{
  "nbformat": 4,
  "nbformat_minor": 0,
  "metadata": {
    "colab": {
      "name": "FirstNotebook.ipynb",
      "provenance": [],
      "collapsed_sections": [],
      "authorship_tag": "ABX9TyO+N4YlNszYrEOHEkb6ydGP",
      "include_colab_link": true
    },
    "kernelspec": {
      "name": "python3",
      "display_name": "Python 3"
    },
    "language_info": {
      "name": "python"
    }
  },
  "cells": [
    {
      "cell_type": "markdown",
      "metadata": {
        "id": "view-in-github",
        "colab_type": "text"
      },
      "source": [
        "<a href=\"https://colab.research.google.com/github/Strasser-Pablo/TestColab/blob/main/FirstNotebook.ipynb\" target=\"_parent\"><img src=\"https://colab.research.google.com/assets/colab-badge.svg\" alt=\"Open In Colab\"/></a>"
      ]
    },
    {
      "cell_type": "code",
      "source": [
        "%cd /content\n",
        "!rm -rf TP_graph_computational\n",
        "!git clone https://github.com/Strasser-Pablo/TP_graph_computational.git &> /dev/null || true\n",
        "%cd /content/TP_graph_computational"
      ],
      "metadata": {
        "id": "i5XjDWJZnZfq",
        "outputId": "ec24869d-19a4-40cc-8052-f493624d2454",
        "colab": {
          "base_uri": "https://localhost:8080/"
        }
      },
      "execution_count": 1,
      "outputs": [
        {
          "output_type": "stream",
          "name": "stdout",
          "text": [
            "/content\n",
            "/content/TP_graph_computational\n"
          ]
        }
      ]
    },
    {
      "cell_type": "markdown",
      "source": [
        "Test writing some text."
      ],
      "metadata": {
        "id": "v5_M2DStln58"
      }
    },
    {
      "cell_type": "markdown",
      "source": [
        "Some more text."
      ],
      "metadata": {
        "id": "3vtT-iAplqtB"
      }
    },
    {
      "cell_type": "markdown",
      "source": [
        "Even more texte."
      ],
      "metadata": {
        "id": "pZMThTCJluPT"
      }
    }
  ]
}